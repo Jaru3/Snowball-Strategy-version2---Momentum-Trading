{
 "cells": [
  {
   "cell_type": "code",
   "execution_count": 44,
   "metadata": {},
   "outputs": [],
   "source": [
    "conkey = \"60e820e81fb8b07a85bea04c26c2d5d3\"\n",
    "seckey = \"ad86209d062f473647a0c47992bb6e0a\""
   ]
  },
  {
   "cell_type": "code",
   "execution_count": 1,
   "metadata": {},
   "outputs": [],
   "source": [
    "import pyupbit as pu\n",
    "import pandas as pd\n",
    "import numpy as np\n",
    "import math"
   ]
  },
  {
   "cell_type": "markdown",
   "metadata": {},
   "source": [
    "현재가 불러오기"
   ]
  },
  {
   "cell_type": "code",
   "execution_count": 2,
   "metadata": {},
   "outputs": [
    {
     "data": {
      "text/plain": [
       "96941000.0"
      ]
     },
     "execution_count": 2,
     "metadata": {},
     "output_type": "execute_result"
    }
   ],
   "source": [
    "pu.get_current_price(\"KRW-BTC\")"
   ]
  },
  {
   "cell_type": "markdown",
   "metadata": {},
   "source": [
    "특정가격 불러오기(24시간 전가격)"
   ]
  },
  {
   "cell_type": "code",
   "execution_count": 21,
   "metadata": {},
   "outputs": [
    {
     "data": {
      "text/plain": [
       "104097000.0"
      ]
     },
     "execution_count": 21,
     "metadata": {},
     "output_type": "execute_result"
    }
   ],
   "source": [
    "df = pu.get_ohlcv(\"KRW-BTC\",interval=\"minute60\")\n",
    "df['open'][175]"
   ]
  },
  {
   "cell_type": "markdown",
   "metadata": {},
   "source": [
    "시장가 매수"
   ]
  },
  {
   "cell_type": "code",
   "execution_count": null,
   "metadata": {},
   "outputs": [],
   "source": [
    "print(upbit.buy_market_order(\"KRW-BTC\", 살 돈의 양))"
   ]
  },
  {
   "cell_type": "markdown",
   "metadata": {},
   "source": [
    "시장가 매도"
   ]
  },
  {
   "cell_type": "code",
   "execution_count": null,
   "metadata": {},
   "outputs": [],
   "source": [
    "print(upbit.sell_market_order(\"KRW-BTC\", 팔 코인의 갯수))"
   ]
  },
  {
   "cell_type": "markdown",
   "metadata": {},
   "source": [
    "잔고 조회"
   ]
  },
  {
   "cell_type": "markdown",
   "metadata": {},
   "source": [
    "print(upbit.get_balance(\"KRW\")) "
   ]
  },
  {
   "cell_type": "code",
   "execution_count": 59,
   "metadata": {},
   "outputs": [
    {
     "name": "stdout",
     "output_type": "stream",
     "text": [
      "['BTC', 'ETH', 'ETC', 'XRP', 'BCH', 'QTUM', 'BTG', 'EOS', 'ICX', 'TRX', 'ELF', 'KNC', 'GLM', 'ZIL', 'WAXP', 'POWR', 'LRC', 'STEEM', 'STRAX', 'ZRX', 'SNT', 'ADA', 'CTXC', 'BAT', 'THETA', 'LOOM', 'CVC', 'WAVES', 'LINK', 'ENJ', 'VET', 'MTL', 'IOST', 'AMO', 'BSV', 'ORBS', 'TFUEL', 'VALOR', 'CON', 'ANKR', 'MIX', 'CRO', 'FX', 'CHR', 'MBL', 'MXC', 'FCT2', 'WOM', 'BOA', 'MEV', 'SXP', 'COS', 'EL', 'HIVE', 'XPR', 'VRA', 'FIT', 'EGG', 'BORA', 'ARPA', 'CTC', 'APM', 'CKB', 'AERGO', 'EVZ', 'QTCON', 'UNI', 'YFI', 'UMA', 'AAVE', 'COMP', 'BAL', 'RSR', 'NMR', 'RLC', 'UOS', 'SAND', 'STPT', 'BEL', 'OBSR', 'POLA', 'ADP', 'DVI', 'GHX', 'MVC', 'BLY', 'GRT', 'BIOT', 'SNX', 'SOFI', 'GRACY', 'OXT', 'MAP', 'AQT', 'WIKEN', 'CTSI', 'MANA', 'LPT', 'MKR', 'SUSHI', 'ASM', 'PUNDIX', 'CELR', 'FRONT', 'RLY', 'OCEAN', 'BFC', 'ALICE', 'OGN', 'COTI', 'CAKE', 'BNT', 'XVS', 'SWAP', 'CHZ', 'AXS', 'DAO', 'SIX', 'DAI', 'SHIB', 'MATIC', 'WOO', 'ACH', 'VELO', 'XLM', 'ONT', 'META', 'KLAY', 'ONG', 'ALGO', 'JST', 'XTZ', 'MLK', 'DOT', 'ATOM', 'TEMCO', 'DOGE', 'KSM', 'CTK', 'BNB', 'NFT', 'SUN', 'XEC', 'AGIX', 'SOL', 'FNSA', 'EGLD', 'MASK', 'C98', 'MED', '1INCH', 'CRV', 'BOBA', 'DYDX', 'MINA', 'FLOW', 'JOE', 'GALA', 'BTT', 'JASMY', 'REQ', 'CSPR', 'AVAX', 'TDROP', 'HBAR', 'FANC', 'NPT', 'REI', 'T', 'MBX', 'GMT', 'TAVA', 'DAR', 'APE', 'WNCG', 'ALT', 'XCN', 'AZIT', 'FLR', 'SFP', 'FITFI', 'STAT', 'CRTS', 'VIX', 'LBL', 'FLZ', 'LM', 'GRND', 'APT', 'BLUR', 'WEMIX', 'OAS', 'HOOK', 'ENTC', 'ONIT', 'OP', 'ROA', 'GMX', 'STX', 'XPLA', 'ARB', 'INJ', 'HFT', 'RPL', 'IMX', 'CFX', 'ACS', 'FXS', 'CELO', 'LDO', 'FTM', 'FET', 'SUI', 'NCT', 'FLOKI', 'ALEX', 'ID', 'RNDR', 'STG', 'OSMO', 'GAL', 'ILV', 'MAV', 'RSS3', 'AUDIO', 'AGI', 'RDNT', 'ASTR', 'WLD', 'FLUX', 'RVN', 'LEVER', 'EDU', 'SEI', 'WAXL', 'MOC', 'PEPE', 'CYBER', 'ARKM', 'PYR', 'IOTX', 'HIGH', 'PENDLE', 'STORJ', 'API3', 'ZTX', 'MNT', 'GTC', 'TIA', 'ZBC', 'SPURS', 'NEO', 'GAS', 'HIFI', 'BIGTIME', 'ARK', 'YGG', 'HUNT', 'KAVA', 'STMX', 'MAGIC', 'USDT', 'USDC', 'RAD', 'LSK', 'TT', 'ACE', 'IQ', 'PYTH', 'MANTA', 'JUP', 'STRK', 'PDA']\n"
     ]
    }
   ],
   "source": [
    "import pybithumb\n",
    "bithumb = pybithumb.Bithumb(conkey, seckey)\n",
    "\n",
    "print(bithumb.get_tickers())"
   ]
  },
  {
   "cell_type": "code",
   "execution_count": 68,
   "metadata": {},
   "outputs": [
    {
     "data": {
      "text/plain": [
       "(0.0, 0.0, 9947.89, 0.0)"
      ]
     },
     "execution_count": 68,
     "metadata": {},
     "output_type": "execute_result"
    }
   ],
   "source": [
    "bithumb.get_balance(\"BTC\")"
   ]
  },
  {
   "cell_type": "code",
   "execution_count": 72,
   "metadata": {},
   "outputs": [
    {
     "name": "stdout",
     "output_type": "stream",
     "text": [
      "It failed TypeError\n",
      "None\n"
     ]
    }
   ],
   "source": [
    "order = bithumb.sell_limit_order(\"BTC\", 60000000, 0.0001,\"KRW\")\n",
    "print(order)"
   ]
  },
  {
   "cell_type": "code",
   "execution_count": 80,
   "metadata": {},
   "outputs": [],
   "source": [
    "a ={'uuid': '50e184b3-9b4f-4bb0-9c03-30318e3ff10a',\n",
    "  'side': 'ask',\n",
    "  'ord_type': 'limit',\n",
    "  'price': '250000.0',\n",
    "  'state': 'wait',\n",
    "  'market': 'KRW-LTC',\n",
    "  'created_at': '2021-03-25T14:10:53+09:00',\n",
    "  'volume': '1.0',\n",
    "  'remaining_volume': '1.0',\n",
    "  'reserved_fee': '0.0',\n",
    "  'remaining_fee': '0.0',\n",
    "  'paid_fee': '0.0',\n",
    "  'locked': '1.0',\n",
    "  'executed_volume': '0.0',\n",
    "  'trades_count': 0}"
   ]
  },
  {
   "cell_type": "code",
   "execution_count": 86,
   "metadata": {},
   "outputs": [
    {
     "name": "stdout",
     "output_type": "stream",
     "text": [
      "1.0\n"
     ]
    }
   ],
   "source": [
    "print(float(a['volume']))"
   ]
  },
  {
   "cell_type": "code",
   "execution_count": 87,
   "metadata": {},
   "outputs": [
    {
     "ename": "TypeError",
     "evalue": "math.floor() takes exactly one argument (2 given)",
     "output_type": "error",
     "traceback": [
      "\u001b[0;31m---------------------------------------------------------------------------\u001b[0m",
      "\u001b[0;31mTypeError\u001b[0m                                 Traceback (most recent call last)",
      "\u001b[1;32m/Users/jeonchanwoong/Documents/finance/Quant/crypto/trading/test.ipynb Cell 18\u001b[0m line \u001b[0;36m1\n\u001b[0;32m----> <a href='vscode-notebook-cell:/Users/jeonchanwoong/Documents/finance/Quant/crypto/trading/test.ipynb#X25sZmlsZQ%3D%3D?line=0'>1</a>\u001b[0m math\u001b[39m.\u001b[39;49mfloor(\u001b[39m0.123456789012345\u001b[39;49m, \u001b[39m8\u001b[39;49m)\n",
      "\u001b[0;31mTypeError\u001b[0m: math.floor() takes exactly one argument (2 given)"
     ]
    }
   ],
   "source": [
    "math.floor(0.123456789012345, 8)"
   ]
  },
  {
   "cell_type": "code",
   "execution_count": 88,
   "metadata": {},
   "outputs": [
    {
     "name": "stdout",
     "output_type": "stream",
     "text": [
      "0.12345678\n"
     ]
    }
   ],
   "source": [
    "import math\n",
    "def floor(num, flo_num):\n",
    "    ins_num = num * 10**flo_num\n",
    "    ins_num_flo = math.floor(ins_num)\n",
    "    ins_num = ins_num_flo * 10**(-flo_num)\n",
    "    return ins_num\n",
    "\n",
    "print(floor(0.123456789012345, 8))"
   ]
  },
  {
   "cell_type": "code",
   "execution_count": 94,
   "metadata": {},
   "outputs": [
    {
     "data": {
      "text/plain": [
       "0.12345678"
      ]
     },
     "execution_count": 94,
     "metadata": {},
     "output_type": "execute_result"
    }
   ],
   "source": [
    "math.floor(0.123456789*10**8)/10**8"
   ]
  },
  {
   "cell_type": "code",
   "execution_count": 92,
   "metadata": {},
   "outputs": [
    {
     "ename": "TypeError",
     "evalue": "unsupported operand type(s) for +: 'int' and 'list'",
     "output_type": "error",
     "traceback": [
      "\u001b[0;31m---------------------------------------------------------------------------\u001b[0m",
      "\u001b[0;31mTypeError\u001b[0m                                 Traceback (most recent call last)",
      "\u001b[1;32m/Users/jeonchanwoong/Documents/finance/Quant/crypto/trading/test.ipynb Cell 21\u001b[0m line \u001b[0;36m1\n\u001b[0;32m----> <a href='vscode-notebook-cell:/Users/jeonchanwoong/Documents/finance/Quant/crypto/trading/test.ipynb#X31sZmlsZQ%3D%3D?line=0'>1</a>\u001b[0m \u001b[39msum\u001b[39;49m(a)\n",
      "\u001b[0;31mTypeError\u001b[0m: unsupported operand type(s) for +: 'int' and 'list'"
     ]
    }
   ],
   "source": [
    "sum(a)"
   ]
  },
  {
   "cell_type": "code",
   "execution_count": null,
   "metadata": {},
   "outputs": [],
   "source": []
  }
 ],
 "metadata": {
  "kernelspec": {
   "display_name": "my_env",
   "language": "python",
   "name": "python3"
  },
  "language_info": {
   "codemirror_mode": {
    "name": "ipython",
    "version": 3
   },
   "file_extension": ".py",
   "mimetype": "text/x-python",
   "name": "python",
   "nbconvert_exporter": "python",
   "pygments_lexer": "ipython3",
   "version": "3.11.0"
  },
  "orig_nbformat": 4
 },
 "nbformat": 4,
 "nbformat_minor": 2
}
