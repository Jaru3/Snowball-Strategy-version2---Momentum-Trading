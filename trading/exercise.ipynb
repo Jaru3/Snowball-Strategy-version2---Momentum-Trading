{
 "cells": [
  {
   "cell_type": "code",
   "execution_count": 1,
   "metadata": {},
   "outputs": [
    {
     "name": "stdout",
     "output_type": "stream",
     "text": [
      "['KRW-BTC', 'KRW-ETH', 'BTC-ETH', 'BTC-XRP', 'BTC-ETC', 'BTC-CVC', 'BTC-DGB', 'BTC-SC', 'BTC-SNT', 'BTC-WAVES', 'BTC-NMR', 'BTC-XEM', 'BTC-QTUM', 'BTC-BAT', 'BTC-LSK', 'BTC-STEEM', 'BTC-DOGE', 'BTC-BNT', 'BTC-XLM', 'BTC-ARDR', 'BTC-ARK', 'BTC-STORJ', 'BTC-GRS', 'BTC-RLC', 'USDT-BTC', 'USDT-ETH', 'USDT-XRP', 'USDT-ETC', 'KRW-NEO', 'KRW-MTL', 'KRW-XRP', 'KRW-ETC', 'KRW-SNT', 'KRW-WAVES', 'KRW-XEM', 'KRW-QTUM', 'KRW-LSK', 'KRW-STEEM', 'KRW-XLM', 'KRW-ARDR', 'KRW-ARK', 'KRW-STORJ', 'KRW-GRS', 'KRW-ADA', 'BTC-ADA', 'BTC-MANA', 'KRW-SBD', 'BTC-SBD', 'KRW-POWR', 'BTC-POWR', 'USDT-ADA', 'BTC-DNT', 'BTC-ZRX', 'BTC-TRX', 'BTC-TUSD', 'BTC-LRC', 'KRW-ICX', 'KRW-EOS', 'USDT-TUSD', 'KRW-TRX', 'BTC-POLYX', 'USDT-SC', 'USDT-TRX', 'KRW-SC', 'KRW-ONT', 'KRW-ZIL', 'KRW-POLYX', 'KRW-ZRX', 'KRW-LOOM', 'BTC-BCH', 'USDT-BCH', 'KRW-BCH', 'BTC-HIFI', 'BTC-LOOM', 'KRW-BAT', 'KRW-IOST', 'USDT-DGB', 'KRW-CVC', 'KRW-IQ', 'KRW-IOTA', 'BTC-RVN', 'BTC-GO', 'BTC-BOUNTY', 'BTC-ENJ', 'KRW-HIFI', 'KRW-ONG', 'KRW-GAS', 'BTC-MTL', 'KRW-BOUNTY', 'KRW-ELF', 'USDT-DOGE', 'USDT-ZRX', 'USDT-RVN', 'USDT-BAT', 'KRW-KNC', 'BTC-MOC', 'BTC-ZIL', 'KRW-BSV', 'BTC-BSV', 'BTC-IOST', 'KRW-THETA', 'BTC-DENT', 'KRW-QKC', 'BTC-ELF', 'KRW-BTT', 'BTC-IOTX', 'BTC-SOLVE', 'BTC-NKN', 'BTC-META', 'KRW-MOC', 'BTC-ANKR', 'BTC-CRO', 'KRW-TFUEL', 'KRW-MANA', 'KRW-ANKR', 'BTC-ORBS', 'BTC-AERGO', 'KRW-AERGO', 'KRW-ATOM', 'KRW-TT', 'KRW-GAME2', 'BTC-ATOM', 'BTC-STPT', 'KRW-MBL', 'BTC-EOS', 'BTC-USDS', 'BTC-SKY', 'BTC-BORA', 'KRW-WAXP', 'BTC-WAXP', 'KRW-HBAR', 'KRW-MED', 'BTC-MED', 'BTC-MLK', 'KRW-MLK', 'KRW-STPT', 'BTC-VET', 'KRW-ORBS', 'BTC-CHZ', 'KRW-VET', 'BTC-FX', 'BTC-OGN', 'KRW-CHZ', 'BTC-XTZ', 'BTC-HIVE', 'BTC-HBD', 'BTC-OBSR', 'BTC-DKA', 'KRW-STMX', 'BTC-STMX', 'BTC-AHT', 'KRW-DKA', 'BTC-LINK', 'KRW-HIVE', 'KRW-KAVA', 'BTC-KAVA', 'KRW-AHT', 'KRW-LINK', 'KRW-XTZ', 'KRW-BORA', 'BTC-JST', 'BTC-CHR', 'BTC-TOKAMAK', 'KRW-JST', 'BTC-CTSI', 'BTC-DOT', 'KRW-CRO', 'BTC-COMP', 'BTC-SXP', 'BTC-HUNT', 'KRW-TOKAMAK', 'BTC-LWA', 'BTC-CRV', 'BTC-ALGO', 'BTC-RSR', 'KRW-SXP', 'BTC-OXT', 'KRW-HUNT', 'BTC-SAND', 'BTC-SUN', 'KRW-DOT', 'BTC-QTCON', 'BTC-MVL', 'KRW-MVL', 'BTC-REI', 'BTC-AQT', 'BTC-AXS', 'BTC-STRAX', 'KRW-STRAX', 'KRW-AQT', 'BTC-GLM', 'KRW-GLM', 'BTC-FCT2', 'KRW-META', 'KRW-FCT2', 'BTC-FIL', 'BTC-UNI', 'BTC-INJ', 'BTC-PROM', 'BTC-VAL', 'BTC-PSG', 'BTC-JUV', 'BTC-CBK', 'KRW-CBK', 'BTC-BFC', 'BTC-HPO', 'BTC-CELO', 'KRW-SAND', 'KRW-HPO', 'BTC-IQ', 'BTC-STX', 'KRW-DOGE', 'BTC-NEAR', 'BTC-AUCTION', 'BTC-FLOW', 'BTC-STRIKE', 'KRW-STRIKE', 'BTC-PUNDIX', 'KRW-PUNDIX', 'KRW-FLOW', 'KRW-AXS', 'KRW-STX', 'BTC-GRT', 'BTC-SNX', 'BTC-USDP', 'KRW-XEC', 'KRW-SOL', 'BTC-SOL', 'KRW-POL', 'BTC-POL', 'KRW-AAVE', 'KRW-1INCH', 'BTC-AAVE', 'BTC-1INCH', 'BTC-MASK', 'KRW-ALGO', 'BTC-AUDIO', 'KRW-NEAR', 'BTC-YGG', 'BTC-GTC', 'BTC-OCEAN', 'BTC-CTC', 'BTC-LPT', 'KRW-AVAX', 'BTC-AVAX', 'BTC-IMX', 'BTC-RENDER', 'BTC-RLY', 'KRW-T', 'BTC-T', 'KRW-CELO', 'BTC-RAD', 'BTC-AGLD', 'BTC-API3', 'BTC-ARPA', 'BTC-ENS', 'KRW-GMT', 'BTC-GMT', 'BTC-APE', 'BTC-RAY', 'KRW-APT', 'BTC-APT', 'BTC-ACM', 'BTC-AFC', 'BTC-ATM', 'BTC-BAR', 'BTC-CITY', 'BTC-INTER', 'BTC-NAP', 'KRW-SHIB', 'BTC-G', 'BTC-ASTR', 'BTC-BLUR', 'KRW-MASK', 'BTC-ACS', 'BTC-MAGIC', 'KRW-ARB', 'BTC-ARB', 'KRW-EGLD', 'BTC-EGLD', 'KRW-SUI', 'BTC-SUI', 'KRW-GRT', 'KRW-BLUR', 'BTC-MINA', 'KRW-IMX', 'BTC-STG', 'BTC-SEI', 'KRW-SEI', 'BTC-CYBER', 'BTC-GLMR', 'KRW-MINA', 'BTC-ID', 'BTC-AXL', 'KRW-CTC', 'KRW-ASTR', 'BTC-SPURS', 'KRW-ID', 'KRW-PYTH', 'BTC-PYTH', 'BTC-ALT', 'BTC-POKT', 'USDT-POKT', 'KRW-MNT', 'BTC-MNT', 'USDT-MNT', 'BTC-BIGTIME', 'USDT-BIGTIME', 'KRW-AKT', 'BTC-AKT', 'USDT-AKT', 'KRW-ZETA', 'BTC-ZETA', 'USDT-ZETA', 'BTC-OMNI', 'USDT-OMNI', 'BTC-OAS', 'USDT-OAS', 'KRW-AUCTION', 'KRW-STG', 'KRW-BEAM', 'BTC-BEAM', 'USDT-BEAM', 'KRW-TAIKO', 'BTC-TAIKO', 'USDT-TAIKO', 'KRW-USDT', 'BTC-USDT', 'KRW-ONDO', 'BTC-ONDO', 'USDT-ONDO', 'BTC-NEO', 'USDT-NEO', 'BTC-GAS', 'USDT-GAS', 'BTC-TT', 'BTC-GAME2', 'USDT-SOL', 'KRW-ZRO', 'BTC-ZRO', 'USDT-ZRO', 'KRW-BLAST', 'BTC-BLAST', 'USDT-BLAST', 'KRW-JUP', 'BTC-JUP', 'USDT-JUP', 'KRW-ENS', 'KRW-G', 'KRW-PENDLE', 'BTC-PENDLE', 'KRW-ATH', 'BTC-ATH', 'USDT-BRETT', 'USDT-PEPE', 'KRW-USDC', 'BTC-USDC', 'USDT-USDC', 'KRW-UXLINK', 'BTC-UXLINK', 'USDT-UXLINK', 'KRW-BIGTIME', 'KRW-CKB', 'BTC-CKB', 'USDT-CKB', 'BTC-MEW', 'USDT-MEW', 'KRW-W', 'BTC-W', 'USDT-W', 'KRW-CARV', 'BTC-CARV', 'USDT-CARV', 'KRW-INJ', 'USDT-INJ', 'KRW-MEW', 'USDT-BONK', 'KRW-UNI', 'USDT-UNI', 'KRW-SAFE', 'BTC-SAFE', 'USDT-SAFE', 'KRW-DRIFT', 'BTC-DRIFT', 'USDT-DRIFT', 'KRW-AGLD', 'USDT-AGLD', 'USDT-AHT', 'USDT-ARPA', 'USDT-ASTR', 'USDT-BNT', 'USDT-EGLD', 'USDT-FIL', 'USDT-LWA', 'USDT-NEAR', 'USDT-OXT', 'USDT-RAD', 'USDT-XLM', 'KRW-PEPE', 'KRW-BONK', 'BTC-JASMY', 'USDT-JASMY', 'BTC-NCT', 'USDT-NCT', 'KRW-RENDER', 'USDT-RENDER', 'BTC-PUFFER', 'USDT-PUFFER', 'BTC-SWELL', 'USDT-SWELL', 'KRW-MOVE', 'BTC-MOVE', 'USDT-MOVE', 'KRW-ME', 'BTC-ME', 'USDT-ME', 'KRW-MOCA', 'BTC-MOCA', 'USDT-MOCA', 'KRW-VANA', 'BTC-VANA', 'USDT-VANA', 'KRW-SONIC', 'BTC-SONIC', 'USDT-SONIC', 'KRW-VTHO', 'USDT-VTHO', 'KRW-ANIME', 'BTC-ANIME', 'USDT-ANIME', 'KRW-VIRTUAL', 'BTC-VIRTUAL', 'USDT-VIRTUAL', 'BTC-SCR', 'USDT-SCR', 'BTC-JTO', 'USDT-JTO', 'KRW-BERA', 'BTC-BERA', 'USDT-BERA']\n"
     ]
    }
   ],
   "source": [
    "import pyupbit\n",
    "\n",
    "print(pyupbit.get_tickers())\n"
   ]
  },
  {
   "cell_type": "code",
   "execution_count": 2,
   "metadata": {},
   "outputs": [
    {
     "name": "stdout",
     "output_type": "stream",
     "text": [
      "['KRW-BTC', 'KRW-ETH', 'KRW-NEO', 'KRW-MTL', 'KRW-XRP', 'KRW-ETC', 'KRW-SNT', 'KRW-WAVES', 'KRW-XEM', 'KRW-QTUM', 'KRW-LSK', 'KRW-STEEM', 'KRW-XLM', 'KRW-ARDR', 'KRW-ARK', 'KRW-STORJ', 'KRW-GRS', 'KRW-ADA', 'KRW-SBD', 'KRW-POWR', 'KRW-ICX', 'KRW-EOS', 'KRW-TRX', 'KRW-SC', 'KRW-ONT', 'KRW-ZIL', 'KRW-POLYX', 'KRW-ZRX', 'KRW-LOOM', 'KRW-BCH', 'KRW-BAT', 'KRW-IOST', 'KRW-CVC', 'KRW-IQ', 'KRW-IOTA', 'KRW-HIFI', 'KRW-ONG', 'KRW-GAS', 'KRW-BOUNTY', 'KRW-ELF', 'KRW-KNC', 'KRW-BSV', 'KRW-THETA', 'KRW-QKC', 'KRW-BTT', 'KRW-MOC', 'KRW-TFUEL', 'KRW-MANA', 'KRW-ANKR', 'KRW-AERGO', 'KRW-ATOM', 'KRW-TT', 'KRW-GAME2', 'KRW-MBL', 'KRW-WAXP', 'KRW-HBAR', 'KRW-MED', 'KRW-MLK', 'KRW-STPT', 'KRW-ORBS', 'KRW-VET', 'KRW-CHZ', 'KRW-STMX', 'KRW-DKA', 'KRW-HIVE', 'KRW-KAVA', 'KRW-AHT', 'KRW-LINK', 'KRW-XTZ', 'KRW-BORA', 'KRW-JST', 'KRW-CRO', 'KRW-TOKAMAK', 'KRW-SXP', 'KRW-HUNT', 'KRW-DOT', 'KRW-MVL', 'KRW-STRAX', 'KRW-AQT', 'KRW-GLM', 'KRW-META', 'KRW-FCT2', 'KRW-CBK', 'KRW-SAND', 'KRW-HPO', 'KRW-DOGE', 'KRW-STRIKE', 'KRW-PUNDIX', 'KRW-FLOW', 'KRW-AXS', 'KRW-STX', 'KRW-XEC', 'KRW-SOL', 'KRW-POL', 'KRW-AAVE', 'KRW-1INCH', 'KRW-ALGO', 'KRW-NEAR', 'KRW-AVAX', 'KRW-T', 'KRW-CELO', 'KRW-GMT', 'KRW-APT', 'KRW-SHIB', 'KRW-MASK', 'KRW-ARB', 'KRW-EGLD', 'KRW-SUI', 'KRW-GRT', 'KRW-BLUR', 'KRW-IMX', 'KRW-SEI', 'KRW-MINA', 'KRW-CTC', 'KRW-ASTR', 'KRW-ID', 'KRW-PYTH', 'KRW-MNT', 'KRW-AKT', 'KRW-ZETA', 'KRW-AUCTION', 'KRW-STG', 'KRW-BEAM', 'KRW-TAIKO', 'KRW-USDT', 'KRW-ONDO', 'KRW-ZRO', 'KRW-BLAST', 'KRW-JUP', 'KRW-ENS', 'KRW-G', 'KRW-PENDLE', 'KRW-ATH', 'KRW-USDC', 'KRW-UXLINK', 'KRW-BIGTIME', 'KRW-CKB', 'KRW-W', 'KRW-CARV', 'KRW-INJ', 'KRW-MEW', 'KRW-UNI', 'KRW-SAFE', 'KRW-DRIFT', 'KRW-AGLD', 'KRW-PEPE', 'KRW-BONK', 'KRW-RENDER', 'KRW-MOVE', 'KRW-ME', 'KRW-MOCA', 'KRW-VANA', 'KRW-SONIC', 'KRW-VTHO', 'KRW-ANIME', 'KRW-VIRTUAL', 'KRW-BERA']\n"
     ]
    }
   ],
   "source": [
    "print(pyupbit.get_tickers(fiat=\"KRW\"))"
   ]
  },
  {
   "cell_type": "code",
   "execution_count": 36,
   "metadata": {},
   "outputs": [
    {
     "name": "stdout",
     "output_type": "stream",
     "text": [
      "BTC\n",
      "ETH\n",
      "XRP\n",
      "USDT\n",
      "SOL\n",
      "BNB\n",
      "USDC\n",
      "DOGE\n",
      "ADA\n",
      "TRX\n",
      "10\n"
     ]
    }
   ],
   "source": [
    "import requests\n",
    "from bs4 import BeautifulSoup\n",
    "\n",
    "# URL 설정\n",
    "URL = 'https://coinmarketcap.com/ko/'\n",
    "\n",
    "# 헤더 설정 (봇 차단 방지)\n",
    "headers = {\n",
    "    'User-Agent': 'Mozilla/5.0 (Windows NT 10.0; Win64; x64) AppleWebKit/537.36 (KHTML, like Gecko) Chrome/87.0.4280.88 Safari/537.36'\n",
    "}\n",
    "\n",
    "# 웹 페이지 요청 및 파싱\n",
    "response = requests.get(URL, headers=headers)\n",
    "soup = BeautifulSoup(response.text, 'html.parser')\n",
    "\n",
    "# 모든 티커 찾기\n",
    "tickers = soup.find_all('p', class_='coin-item-symbol')\n",
    "\n",
    "# 티커 리스트 저장 및 출력\n",
    "ticker_list = [ticker.text.strip() for ticker in tickers]\n",
    "\n",
    "# 결과 출력\n",
    "for ticker in ticker_list:\n",
    "    print(ticker)\n",
    "print(len(ticker_list))\n"
   ]
  },
  {
   "cell_type": "code",
   "execution_count": 47,
   "metadata": {},
   "outputs": [
    {
     "name": "stdout",
     "output_type": "stream",
     "text": [
      "BTC\n",
      "ETH\n",
      "XRP\n",
      "USDT\n",
      "SOL\n",
      "BNB\n",
      "USDC\n",
      "DOGE\n",
      "ADA\n",
      "TRX\n",
      "LINK\n",
      "AVAX\n",
      "SUI\n",
      "XLM\n",
      "LTC\n",
      "TON\n",
      "16\n"
     ]
    }
   ],
   "source": [
    "from selenium import webdriver\n",
    "from selenium.webdriver.common.by import By\n",
    "from selenium.webdriver.chrome.service import Service\n",
    "from webdriver_manager.chrome import ChromeDriverManager\n",
    "import time\n",
    "\n",
    "# Selenium 드라이버 설정\n",
    "options = webdriver.ChromeOptions()\n",
    "options.add_argument('--headless')  # 브라우저 창을 띄우지 않고 실행\n",
    "options.add_argument('--no-sandbox')\n",
    "options.add_argument('--disable-dev-shm-usage')\n",
    "\n",
    "# Chrome 드라이버 실행\n",
    "driver = webdriver.Chrome(service=Service(ChromeDriverManager().install()), options=options)\n",
    "\n",
    "# URL 요청\n",
    "URL = 'https://coinmarketcap.com/ko/'\n",
    "driver.get(URL)\n",
    "\n",
    "# 페이지가 로드될 때까지 대기\n",
    "time.sleep(3)\n",
    "\n",
    "# 모든 티커 요소 찾기\n",
    "tickers = driver.find_elements(By.CLASS_NAME, 'coin-item-symbol')\n",
    "\n",
    "# 티커 리스트 저장 및 출력\n",
    "ticker_list = [ticker.text for ticker in tickers if ticker.text != '']\n",
    "\n",
    "# 결과 출력\n",
    "for ticker in ticker_list:\n",
    "    print(ticker)\n",
    "\n",
    "# 드라이버 종료\n",
    "driver.quit()\n",
    "print(len(tickers))"
   ]
  },
  {
   "cell_type": "markdown",
   "metadata": {},
   "source": [
    "시가총액 순으로 스크랩핑 한 티커중에서 업비트 매매 목록에 있는 티커를 매매 목록에 추가"
   ]
  },
  {
   "cell_type": "code",
   "execution_count": 64,
   "metadata": {},
   "outputs": [
    {
     "name": "stdout",
     "output_type": "stream",
     "text": [
      "성공!\n",
      "현재 매매 티커: ['KRW-BTC', 'KRW-ETH', 'KRW-XRP', 'KRW-SOL', 'KRW-DOGE', 'KRW-ADA', 'KRW-TRX', 'KRW-LINK', 'KRW-AVAX', 'KRW-SUI']\n",
      "과거 매매 티커: ['KRW-BTC', 'KRW-ETH', 'KRW-XRP', 'KRW-SOL', 'KRW-DOGE', 'KRW-ADA', 'KRW-TRX', 'KRW-LINK', 'KRW-AVAX', 'KRW-SUI']\n"
     ]
    }
   ],
   "source": [
    "import pandas as pd\n",
    "from selenium import webdriver\n",
    "from selenium.webdriver.common.by import By\n",
    "from selenium.webdriver.chrome.service import Service\n",
    "from webdriver_manager.chrome import ChromeDriverManager\n",
    "import time\n",
    "iteration == False\n",
    "\n",
    "if iteration == False:\n",
    "    past_completed_ticker = ['KRW-BTC', 'KRW-ETH', 'KRW-XRP', 'KRW-SOL', 'KRW-DOGE', 'KRW-ADA', 'KRW-TRX', 'KRW-LINK', 'KRW-AVAX', 'KRW-SUI']\n",
    "    iteration = True\n",
    "\n",
    "try:\n",
    "    now_ticker = []\n",
    "    # Selenium 드라이버 설정\n",
    "    options = webdriver.ChromeOptions()\n",
    "    options.add_argument('--headless')  # 브라우저 창을 띄우지 않고 실행\n",
    "    options.add_argument('--no-sandbox')\n",
    "    options.add_argument('--disable-dev-shm-usage')\n",
    "\n",
    "    # Chrome 드라이버 실행\n",
    "    driver = webdriver.Chrome(service=Service(ChromeDriverManager().install()), options=options)\n",
    "\n",
    "    # URL 요청\n",
    "    URL = 'https://coinmarketcap.com/ko/'\n",
    "    driver.get(URL)\n",
    "\n",
    "    # 페이지가 로드될 때까지 대기\n",
    "    time.sleep(3)\n",
    "\n",
    "    # 모든 티커 요소 찾기\n",
    "    tickers = driver.find_elements(By.CLASS_NAME, 'coin-item-symbol')\n",
    "\n",
    "    # 티커 리스트 저장 및 출력\n",
    "    ticker_list = [ticker.text for ticker in tickers if ticker.text != '']\n",
    "\n",
    "    # 드라이버 종료\n",
    "    driver.quit()\n",
    "\n",
    "\n",
    "    upbit_tickers = pyupbit.get_tickers(fiat=\"KRW\")\n",
    "\n",
    "\n",
    "    for web_ticker in ticker_list:\n",
    "        for upbit_ticker in upbit_tickers:\n",
    "            if upbit_ticker == 'KRW-' + web_ticker:\n",
    "                now_ticker.append(upbit_ticker)\n",
    "\n",
    "\n",
    "    if 'KRW-USDT' in now_ticker:\n",
    "        now_ticker.remove('KRW-USDT')\n",
    "    if 'KRW-USDC' in now_ticker:\n",
    "        now_ticker.remove('KRW-USDC')\n",
    "    \n",
    "    if len(now_ticker) < 10:\n",
    "        raise ValueError(\"오류: ticker 수가 10 보다 작습니다.\")\n",
    "\n",
    "\n",
    "    now_complete_ticker = now_ticker[:10]\n",
    "    \n",
    "    print(\"성공!\")\n",
    "    print(\"현재 매매 티커:\", now_complete_ticker)\n",
    "    past_completed_ticker = now_complete_ticker\n",
    "    print(\"과거 매매 티커:\",past_completed_ticker)\n",
    "\n",
    "except:\n",
    "    print(\"티커 정보 조회 실패 - 이전 티커로 다시 매매 진행합니다.\")\n",
    "    now_complete_ticker = past_completed_ticker\n",
    "    print(\"현재 매매 티커:\", now_complete_ticker)"
   ]
  },
  {
   "cell_type": "markdown",
   "metadata": {},
   "source": [
    "- 코드 손 볼 내용 정리 - \n",
    "1. 실제 코드에서는 다음 코드 클래스화 하기\n",
    "2. 티커 갯수 정하기(우선 10개)\n",
    "3. 시가총액 티커가 변할 때 어떤 식으로 매매 할건지(바로 티커 변경할건지 아니면 시간을 두고 변경할지를 결정해야 한다. )((우선 바로바로 변경))"
   ]
  },
  {
   "cell_type": "code",
   "execution_count": 67,
   "metadata": {},
   "outputs": [
    {
     "name": "stdout",
     "output_type": "stream",
     "text": [
      "성공!\n",
      "현재 매매 티커: ['KRW-BTC', 'KRW-ETH', 'KRW-XRP', 'KRW-SOL', 'KRW-DOGE', 'KRW-ADA', 'KRW-TRX', 'KRW-LINK', 'KRW-AVAX', 'KRW-SUI']\n",
      "과거 매매 티커: ['KRW-BTC', 'KRW-ETH', 'KRW-XRP', 'KRW-SOL', 'KRW-DOGE', 'KRW-ADA', 'KRW-TRX', 'KRW-LINK', 'KRW-AVAX', 'KRW-SUI']\n"
     ]
    }
   ],
   "source": [
    "import pandas as pd\n",
    "from selenium import webdriver\n",
    "from selenium.webdriver.common.by import By\n",
    "from selenium.webdriver.chrome.service import Service\n",
    "from webdriver_manager.chrome import ChromeDriverManager\n",
    "import time\n",
    "import pyupbit\n",
    "\n",
    "class TickerManager:\n",
    "    def __init__(self):\n",
    "        self.past_completed_ticker = [\n",
    "            'KRW-BTC', 'KRW-ETH', 'KRW-XRP', 'KRW-SOL',\n",
    "            'KRW-DOGE', 'KRW-ADA', 'KRW-TRX', 'KRW-LINK',\n",
    "            'KRW-AVAX', 'KRW-SUI'\n",
    "        ]\n",
    "        self.now_ticker = []\n",
    "\n",
    "    def fetch_web_tickers(self, url='https://coinmarketcap.com/ko/'):\n",
    "        options = webdriver.ChromeOptions()\n",
    "        options.add_argument('--headless')\n",
    "        options.add_argument('--no-sandbox')\n",
    "        options.add_argument('--disable-dev-shm-usage')\n",
    "\n",
    "        driver = webdriver.Chrome(service=Service(ChromeDriverManager().install()), options=options)\n",
    "        driver.get(url)\n",
    "        time.sleep(3)\n",
    "\n",
    "        tickers = driver.find_elements(By.CLASS_NAME, 'coin-item-symbol')\n",
    "        ticker_list = [ticker.text for ticker in tickers if ticker.text != '']\n",
    "\n",
    "        driver.quit()\n",
    "        return ticker_list\n",
    "\n",
    "    def get_upbit_tickers(self):\n",
    "        return pyupbit.get_tickers(fiat=\"KRW\")\n",
    "\n",
    "    def filter_tickers(self, web_tickers, upbit_tickers):\n",
    "        now_ticker = [f'KRW-{ticker}' for ticker in web_tickers if f'KRW-{ticker}' in upbit_tickers]\n",
    "\n",
    "        # 제외할 항목 제거\n",
    "        for remove_ticker in ['KRW-USDT', 'KRW-USDC']:\n",
    "            if remove_ticker in now_ticker:\n",
    "                now_ticker.remove(remove_ticker)\n",
    "\n",
    "        if len(now_ticker) < 10:\n",
    "            raise ValueError(\"오류: ticker 수가 10 보다 작습니다.\")\n",
    "\n",
    "        return now_ticker[:10]\n",
    "\n",
    "    def run(self):\n",
    "        try:\n",
    "            web_tickers = self.fetch_web_tickers()\n",
    "            upbit_tickers = self.get_upbit_tickers()\n",
    "            self.now_ticker = self.filter_tickers(web_tickers, upbit_tickers)\n",
    "\n",
    "            print(\"성공!\")\n",
    "            print(\"현재 매매 티커:\", self.now_ticker)\n",
    "\n",
    "            self.past_completed_ticker = self.now_ticker\n",
    "            print(\"과거 매매 티커:\", self.past_completed_ticker)\n",
    "\n",
    "        except Exception as e:\n",
    "            print(\"티커 정보 조회 실패 - 이전 티커로 다시 매매 진행합니다.\")\n",
    "            print(\"현재 매매 티커:\", self.past_completed_ticker)\n",
    "\n",
    "            self.now_ticker = self.past_completed_ticker\n",
    "\n",
    "if __name__ == \"__main__\":\n",
    "    manager = TickerManager()\n",
    "    manager.run()\n"
   ]
  },
  {
   "cell_type": "code",
   "execution_count": null,
   "metadata": {},
   "outputs": [],
   "source": []
  }
 ],
 "metadata": {
  "kernelspec": {
   "display_name": "my_env",
   "language": "python",
   "name": "python3"
  },
  "language_info": {
   "codemirror_mode": {
    "name": "ipython",
    "version": 3
   },
   "file_extension": ".py",
   "mimetype": "text/x-python",
   "name": "python",
   "nbconvert_exporter": "python",
   "pygments_lexer": "ipython3",
   "version": "3.11.11"
  }
 },
 "nbformat": 4,
 "nbformat_minor": 2
}
