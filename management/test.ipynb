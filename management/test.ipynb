{
 "cells": [
  {
   "cell_type": "markdown",
   "metadata": {},
   "source": [
    "# trading.py test"
   ]
  },
  {
   "cell_type": "code",
   "execution_count": 33,
   "metadata": {},
   "outputs": [
    {
     "name": "stdout",
     "output_type": "stream",
     "text": [
      "🟢 시장가 매수 완료: {'uuid': 'cf263306-8af9-4569-bfca-f67fefdf27db', 'side': 'bid', 'ord_type': 'price', 'price': '5500', 'state': 'wait', 'market': 'KRW-BTC', 'created_at': '2025-05-09T21:41:46+09:00', 'reserved_fee': '2.75', 'remaining_fee': '2.75', 'paid_fee': '0', 'locked': '5502.75', 'executed_volume': '0', 'trades_count': 0}\n",
      "실제 매수된 BTC 수량: 0.00003818\n",
      "평균 체결 단가: 144,026,000 KRW\n",
      "🔴 시장가 매도 완료: {'uuid': '787bd136-475f-4ed6-b287-75af7838e4ff', 'side': 'ask', 'ord_type': 'market', 'state': 'wait', 'market': 'KRW-BTC', 'created_at': '2025-05-09T21:41:49+09:00', 'volume': '0.00003818', 'remaining_volume': '0.00003818', 'reserved_fee': '0', 'remaining_fee': '0', 'paid_fee': '0', 'locked': '0.00003818', 'executed_volume': '0', 'trades_count': 0}\n",
      "실제 매도된 BTC 수량: 0.00003818\n",
      "평균 체결 단가: 144,026,000 KRW\n"
     ]
    }
   ],
   "source": [
    "import pyupbit\n",
    "import time\n",
    "\n",
    "class UpbitTrader:\n",
    "    def __init__(self, access_key, secret_key):\n",
    "        self.upbit = pyupbit.Upbit(access_key, secret_key)\n",
    "\n",
    "    # ✅ 시장가 매수\n",
    "    def buy_market(self, ticker, krw_amount):\n",
    "        try:\n",
    "            result = self.upbit.buy_market_order(ticker, krw_amount)\n",
    "            print(f\"🟢 시장가 매수 완료: {result}\")\n",
    "            return result\n",
    "        except Exception as e:\n",
    "            print(f\"시장가 매수 실패: {e}\")\n",
    "\n",
    "    # ✅ 시장가 매도\n",
    "    def sell_market(self, ticker, coin_amount):\n",
    "        try:\n",
    "            result = self.upbit.sell_market_order(ticker, coin_amount)\n",
    "            print(f\"🔴 시장가 매도 완료: {result}\")\n",
    "            return result\n",
    "        except Exception as e:\n",
    "            print(f\"시장가 매도 실패: {e}\")\n",
    "\n",
    "    # ✅ 지정가 매수\n",
    "    def buy_limit(self, ticker, price, coin_amount):\n",
    "        try:\n",
    "            result = self.upbit.buy_limit_order(ticker, price, coin_amount)\n",
    "            print(f\"🟡 지정가 매수 주문 등록: {result}\")\n",
    "            return result\n",
    "        except Exception as e:\n",
    "            print(f\"지정가 매수 실패: {e}\")\n",
    "\n",
    "    # ✅ 지정가 매도\n",
    "    def sell_limit(self, ticker, price, coin_amount):\n",
    "        try:\n",
    "            result = self.upbit.sell_limit_order(ticker, price, coin_amount)\n",
    "            print(f\"🟠 지정가 매도 주문 등록: {result}\")\n",
    "            return result\n",
    "        except Exception as e:\n",
    "            print(f\"지정가 매도 실패: {e}\")\n",
    "\n",
    "    # ✅ 잔고 조회\n",
    "    def get_balance(self, ticker=None):\n",
    "        try:\n",
    "            if ticker:\n",
    "                return self.upbit.get_balance(ticker)\n",
    "            else:\n",
    "                return self.upbit.get_balances()\n",
    "        except Exception as e:\n",
    "            print(f\"잔고 조회 실패: {e}\")\n",
    "            return None\n",
    "\n",
    "if __name__ == \"__main__\":\n",
    "    # 본인의 키 입력\n",
    "    access_key = \"xDHup6y8aY7k6Z6jcFHBnkPhQLyKpODquGj6pLBp\"\n",
    "    secret_key = \"EeJupsazpJILV1vkxxGVVXSjCbPFe4DDdyeadlcF\"\n",
    "\n",
    "    trader = UpbitTrader(access_key, secret_key)\n",
    "\n",
    "    # ✅ 시장가 매수 (1만 원어치 BTC)\n",
    "    a = trader.buy_market(\"KRW-BTC\", 5500)\n",
    "    uuid = a['uuid']\n",
    "    \n",
    "    time.sleep(1)  # 잠시 대기\n",
    "    order_detail = upbit.get_order(uuid)\n",
    "\n",
    "    # ✅ 시장가 매도 (0.001 BTC)\n",
    "    # trader.sell_market(\"KRW-BTC\", 0.001)\n",
    "\n",
    "    # ✅ 지정가 매수 (0.0005 BTC를 40000000원에)\n",
    "    # trader.buy_limit(\"KRW-BTC\", 40000000, 0.0005)\n",
    "\n",
    "    time.sleep(1)  # 잠시 대기\n",
    "    order_detail = upbit.get_order(uuid)\n",
    "\n",
    "    filled_volume = sum([float(t['volume']) for t in order_detail['trades']])\n",
    "    avg_price = sum([float(t['price']) * float(t['volume']) for t in order_detail['trades']]) / filled_volume\n",
    "\n",
    "    print(f\"실제 매수된 BTC 수량: {filled_volume:.8f}\")\n",
    "    print(f\"평균 체결 단가: {avg_price:,.0f} KRW\")\n",
    "\n",
    "    # ✅ 시장가 매도 (0.001 BTC)\n",
    "    trader.sell_market(\"KRW-BTC\", filled_volume)\n",
    "\n",
    "    time.sleep(1)  # 잠시 대기\n",
    "    order_detail = upbit.get_order(uuid)\n",
    "\n",
    "    filled_volume = sum([float(t['volume']) for t in order_detail['trades']])\n",
    "    avg_price = sum([float(t['price']) * float(t['volume']) for t in order_detail['trades']]) / filled_volume\n",
    "\n",
    "    print(f\"실제 매도된 BTC 수량: {filled_volume:.8f}\")\n",
    "    print(f\"평균 체결 단가: {avg_price:,.0f} KRW\")\n",
    "\n",
    "    # ✅ 잔고 조회\n",
    "    #print(\"KRW 잔고:\", trader.get_balance(\"KRW\"))\n",
    "    #print(\"BTC 잔고:\", trader.get_balance(\"KRW-BTC\"))"
   ]
  },
  {
   "cell_type": "code",
   "execution_count": 34,
   "metadata": {},
   "outputs": [
    {
     "data": {
      "text/plain": [
       "{'uuid': 'cf263306-8af9-4569-bfca-f67fefdf27db',\n",
       " 'side': 'bid',\n",
       " 'ord_type': 'price',\n",
       " 'price': '5500',\n",
       " 'state': 'wait',\n",
       " 'market': 'KRW-BTC',\n",
       " 'created_at': '2025-05-09T21:41:46+09:00',\n",
       " 'reserved_fee': '2.75',\n",
       " 'remaining_fee': '2.75',\n",
       " 'paid_fee': '0',\n",
       " 'locked': '5502.75',\n",
       " 'executed_volume': '0',\n",
       " 'trades_count': 0}"
      ]
     },
     "execution_count": 34,
     "metadata": {},
     "output_type": "execute_result"
    }
   ],
   "source": [
    "a"
   ]
  },
  {
   "cell_type": "code",
   "execution_count": 35,
   "metadata": {},
   "outputs": [
    {
     "name": "stdout",
     "output_type": "stream",
     "text": [
      "주문 UUID: cf263306-8af9-4569-bfca-f67fefdf27db\n",
      "실제 매수된 BTC 수량: 0.00003818\n",
      "평균 체결 단가: 144,026,000 KRW\n"
     ]
    }
   ],
   "source": [
    "import time\n",
    "upbit = pyupbit.Upbit(access_key, secret_key)\n",
    "# 2. 주문 ID 추출\n",
    "uuid = a['uuid']\n",
    "print(f\"주문 UUID: {uuid}\")\n",
    "\n",
    "# 3. 체결 대기 후 상세 조회\n",
    "time.sleep(1)  # 잠시 대기\n",
    "order_detail = upbit.get_order(uuid)\n",
    "\n",
    "# 4. 체결된 수량 계산\n",
    "filled_volume = sum([float(t['volume']) for t in order_detail['trades']])\n",
    "avg_price = sum([float(t['price']) * float(t['volume']) for t in order_detail['trades']]) / filled_volume\n",
    "\n",
    "print(f\"실제 매수된 BTC 수량: {filled_volume:.8f}\")\n",
    "print(f\"평균 체결 단가: {avg_price:,.0f} KRW\")"
   ]
  },
  {
   "cell_type": "code",
   "execution_count": 36,
   "metadata": {},
   "outputs": [
    {
     "name": "stdout",
     "output_type": "stream",
     "text": [
      "<class 'float'>\n",
      "3.818e-05\n"
     ]
    }
   ],
   "source": [
    "buy_amount = float(filled_volume)\n",
    "print(type(buy_amount))\n",
    "print(buy_amount)"
   ]
  },
  {
   "cell_type": "code",
   "execution_count": 37,
   "metadata": {},
   "outputs": [
    {
     "name": "stdout",
     "output_type": "stream",
     "text": [
      "3.471e-05\n",
      "<class 'decimal.Decimal'>\n"
     ]
    }
   ],
   "source": [
    "value = 3.4719e-05\n",
    "from decimal import Decimal, ROUND_DOWN\n",
    "\n",
    "value = Decimal(value).quantize(Decimal(\"0.00000001\"), rounding=ROUND_DOWN)\n",
    "print(float(value))\n",
    "print(type(value))"
   ]
  },
  {
   "cell_type": "markdown",
   "metadata": {},
   "source": [
    "# trading_strategy.py test"
   ]
  },
  {
   "cell_type": "code",
   "execution_count": 39,
   "metadata": {},
   "outputs": [],
   "source": [
    "total_money = 20000000\n",
    "balance_money = total_money/len(a)/len(a[0]['trading_time'])\n",
    "a = [{\"ticker\":'KRW-BTC',\"trading_time\":[23,0,1,2,3,4,5,6,7,8,9],\"hoding_money\":[a,a,a,a,a,a,a,a,a,a,a],\"hoding_coin\":[0,0,0,0,0,0,0,0,0,0,0]}]"
   ]
  },
  {
   "cell_type": "code",
   "execution_count": 45,
   "metadata": {},
   "outputs": [
    {
     "name": "stdout",
     "output_type": "stream",
     "text": [
      "<class 'list'>\n",
      "<class 'dict'>\n",
      "<class 'list'>\n",
      "<class 'int'>\n"
     ]
    }
   ],
   "source": [
    "print(type(a))\n",
    "print(type(a[0]))\n",
    "print(type(a[0]['trading_time']))\n",
    "print(type(a[0]['trading_time'][7]))"
   ]
  },
  {
   "cell_type": "code",
   "execution_count": null,
   "metadata": {},
   "outputs": [],
   "source": []
  }
 ],
 "metadata": {
  "kernelspec": {
   "display_name": "my_env",
   "language": "python",
   "name": "python3"
  },
  "language_info": {
   "codemirror_mode": {
    "name": "ipython",
    "version": 3
   },
   "file_extension": ".py",
   "mimetype": "text/x-python",
   "name": "python",
   "nbconvert_exporter": "python",
   "pygments_lexer": "ipython3",
   "version": "3.11.11"
  }
 },
 "nbformat": 4,
 "nbformat_minor": 2
}
